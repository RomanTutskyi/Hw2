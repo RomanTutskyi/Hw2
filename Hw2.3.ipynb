{
 "cells": [
  {
   "cell_type": "code",
   "execution_count": 3,
   "metadata": {},
   "outputs": [],
   "source": [
    "import pandas as pd\n",
    "import matplotlib.pyplot as plt \n",
    "import numpy as np\n",
    "\n",
    "task = pd.read_csv('bestsellers.csv')"
   ]
  },
  {
   "cell_type": "code",
   "execution_count": 4,
   "metadata": {},
   "outputs": [
    {
     "name": "stdout",
     "output_type": "stream",
     "text": [
      "<bound method NDFrame.head of                                                   Name  \\\n",
      "0                        10-Day Green Smoothie Cleanse   \n",
      "1                                    11/22/63: A Novel   \n",
      "2              12 Rules for Life: An Antidote to Chaos   \n",
      "3                               1984 (Signet Classics)   \n",
      "4    5,000 Awesome Facts (About Everything!) (Natio...   \n",
      "..                                                 ...   \n",
      "545       Wrecking Ball (Diary of a Wimpy Kid Book 14)   \n",
      "546  You Are a Badass: How to Stop Doubting Your Gr...   \n",
      "547  You Are a Badass: How to Stop Doubting Your Gr...   \n",
      "548  You Are a Badass: How to Stop Doubting Your Gr...   \n",
      "549  You Are a Badass: How to Stop Doubting Your Gr...   \n",
      "\n",
      "                       Author  User Rating  Reviews  Price  Year        Genre  \n",
      "0                    JJ Smith          4.7    17350      8  2016  Non Fiction  \n",
      "1                Stephen King          4.6     2052     22  2011      Fiction  \n",
      "2          Jordan B. Peterson          4.7    18979     15  2018  Non Fiction  \n",
      "3               George Orwell          4.7    21424      6  2017      Fiction  \n",
      "4    National Geographic Kids          4.8     7665     12  2019  Non Fiction  \n",
      "..                        ...          ...      ...    ...   ...          ...  \n",
      "545               Jeff Kinney          4.9     9413      8  2019      Fiction  \n",
      "546               Jen Sincero          4.7    14331      8  2016  Non Fiction  \n",
      "547               Jen Sincero          4.7    14331      8  2017  Non Fiction  \n",
      "548               Jen Sincero          4.7    14331      8  2018  Non Fiction  \n",
      "549               Jen Sincero          4.7    14331      8  2019  Non Fiction  \n",
      "\n",
      "[550 rows x 7 columns]>\n"
     ]
    }
   ],
   "source": [
    "print(task.head)"
   ]
  },
  {
   "cell_type": "code",
   "execution_count": 5,
   "metadata": {},
   "outputs": [
    {
     "name": "stdout",
     "output_type": "stream",
     "text": [
      "550 7\n"
     ]
    }
   ],
   "source": [
    "row , col = task.shape\n",
    "\n",
    "print(row,col)"
   ]
  },
  {
   "cell_type": "code",
   "execution_count": 6,
   "metadata": {},
   "outputs": [
    {
     "name": "stdout",
     "output_type": "stream",
     "text": [
      "Книга зберігає дані  550 книг\n"
     ]
    }
   ],
   "source": [
    "print('Книга зберігає дані  550 книг')"
   ]
  },
  {
   "cell_type": "code",
   "execution_count": 7,
   "metadata": {},
   "outputs": [],
   "source": [
    "task.columns = ['name', 'author', 'user_rating', 'reviews', 'price', 'year', 'genre']\n"
   ]
  },
  {
   "cell_type": "code",
   "execution_count": 12,
   "metadata": {},
   "outputs": [
    {
     "name": "stdout",
     "output_type": "stream",
     "text": [
      "name           0\n",
      "author         0\n",
      "user_rating    0\n",
      "reviews        0\n",
      "price          0\n",
      "year           0\n",
      "genre          0\n",
      "dtype: int64\n"
     ]
    }
   ],
   "source": [
    "missed = task.isna().sum()\n",
    "print(missed)\n",
    "\n"
   ]
  },
  {
   "cell_type": "code",
   "execution_count": null,
   "metadata": {},
   "outputs": [],
   "source": [
    "print('Пропусків у змінних немає')"
   ]
  },
  {
   "cell_type": "code",
   "execution_count": 14,
   "metadata": {},
   "outputs": [
    {
     "name": "stdout",
     "output_type": "stream",
     "text": [
      "['Non Fiction' 'Fiction']\n"
     ]
    }
   ],
   "source": [
    "uniqe = task['genre'].unique()\n",
    "\n",
    "print(uniqe)\n"
   ]
  },
  {
   "cell_type": "code",
   "execution_count": 15,
   "metadata": {},
   "outputs": [
    {
     "name": "stdout",
     "output_type": "stream",
     "text": [
      "Унікальні значення : ['Non Fiction' 'Fiction']\n"
     ]
    }
   ],
   "source": [
    "print(f'Унікальні значення : {uniqe}')\n"
   ]
  },
  {
   "cell_type": "code",
   "execution_count": 22,
   "metadata": {},
   "outputs": [
    {
     "data": {
      "text/plain": [
       "<Axes: ylabel='Frequency'>"
      ]
     },
     "execution_count": 22,
     "metadata": {},
     "output_type": "execute_result"
    },
    {
     "data": {
      "image/png": "[encoded data removed]",
      "text/plain": [
       "<Figure size 640x480 with 1 Axes>"
      ]
     },
     "metadata": {},
     "output_type": "display_data"
    }
   ],
   "source": [
    "task['price'].plot(kind='hist')"
   ]
  },
  {
   "cell_type": "code",
   "execution_count": 27,
   "metadata": {},
   "outputs": [
    {
     "name": "stdout",
     "output_type": "stream",
     "text": [
      "Максимальна - 105, Мінімальна - 0 , Середня - 13.1 , Медіана - 11.0 \n"
     ]
    }
   ],
   "source": [
    "maxx = task['price'].max()\n",
    "minn = task['price'].min()\n",
    "median = task['price'].median()\n",
    "mean = task['price'].mean()\n",
    "\n",
    "print(f'Максимальна - {maxx}, Мінімальна - {minn} , Середня - {mean} , Медіана - {median} ')"
   ]
  },
  {
   "cell_type": "code",
   "execution_count": 30,
   "metadata": {},
   "outputs": [
    {
     "name": "stdout",
     "output_type": "stream",
     "text": [
      "Найвищий рейтинг - 4.9\n"
     ]
    }
   ],
   "source": [
    "rait = task['user_rating'].max()\n",
    "print(f'Найвищий рейтинг - {rait}')"
   ]
  },
  {
   "cell_type": "code",
   "execution_count": 32,
   "metadata": {},
   "outputs": [
    {
     "name": "stdout",
     "output_type": "stream",
     "text": [
      "Стільки книг мають максимальний рейтинг - 52\n"
     ]
    }
   ],
   "source": [
    "count = task['user_rating'].apply(lambda x: x == rait).sum()\n",
    "print(f'Стільки книг мають максимальний рейтинг - {count}')"
   ]
  },
  {
   "cell_type": "code",
   "execution_count": 36,
   "metadata": {},
   "outputs": [
    {
     "name": "stdout",
     "output_type": "stream",
     "text": [
      "Максимальна кількість відгуків - 87841, у книги - Where the Crawdads Sing\n"
     ]
    }
   ],
   "source": [
    "rew = task['reviews'].max()\n",
    "target_rewie = rew\n",
    "\n",
    "filtered_row = task[task['reviews'] == target_rewie]\n",
    "\n",
    "\n",
    "target_name = filtered_row['name'].values[0]\n",
    "print(f'Максимальна кількість відгуків - {rew}, у книги - {target_name}')"
   ]
  },
  {
   "cell_type": "code",
   "execution_count": 47,
   "metadata": {},
   "outputs": [
    {
     "name": "stdout",
     "output_type": "stream",
     "text": [
      "З тих книг що потрапили до топ 50 2015 року , найдорожча - 46\n"
     ]
    }
   ],
   "source": [
    "sorted_df = task[task['year'] == 2015].sort_values(by='user_rating', ascending=False)\n",
    "\n",
    "top_50_2015 = sorted_df.head(50)\n",
    "\n",
    "new_data = pd.concat([top_50_2015], ignore_index=True)\n",
    "\n",
    "maxx = new_data['price'].max()\n",
    "print(f'З тих книг що потрапили до топ 50 2015 року , найдорожча - {maxx}')\n",
    "\n",
    "\n"
   ]
  },
  {
   "cell_type": "code",
   "execution_count": 58,
   "metadata": {},
   "outputs": [
    {
     "name": "stdout",
     "output_type": "stream",
     "text": [
      "genre\n",
      "Non Fiction    33\n",
      "Fiction        17\n",
      "Name: count, dtype: int64\n",
      "Кількість книг з жанром \"Fiction\" , що потрапила у топ 50 2010 року - genre\n",
      "Non Fiction    33\n",
      "Fiction        17\n",
      "Name: count, dtype: int64\n"
     ]
    }
   ],
   "source": [
    "sorted_data = task[task['year'] == 2010].sort_values(by='user_rating', ascending=False)\n",
    "\n",
    "top_50_2010 = sorted_df.head(50)\n",
    "\n",
    "new_date = pd.concat([top_50_2010], ignore_index=True)\n",
    "\n",
    "value = new_date['genre'].value_counts()\n",
    "print(value)\n",
    "\n",
    "print(f'Кількість книг з жанром \"Fiction\" , що потрапила у топ 50 2010 року - {value}')\n",
    "\n",
    "\n",
    "\n",
    "\n",
    "\n",
    "\"\"\"\"Прохання пояснити як це завдання робити , бо щось не до кінця зрозумів\"\"\""
   ]
  },
  {
   "cell_type": "code",
   "execution_count": 59,
   "metadata": {},
   "outputs": [
    {
     "name": "stdout",
     "output_type": "stream",
     "text": [
      "1\n"
     ]
    }
   ],
   "source": [
    "filtered_books = task[task['user_rating'] == 4.9]\n",
    "filtered_books = filtered_books[filtered_books['year'].isin([2010, 2011])]\n",
    "\n",
    "\n",
    "count_books = len(filtered_books)\n",
    "\n",
    "print(count_books)"
   ]
  },
  {
   "cell_type": "code",
   "execution_count": 61,
   "metadata": {},
   "outputs": [
    {
     "name": "stdout",
     "output_type": "stream",
     "text": [
      "                                                  name              author  \\\n",
      "507                              To Kill a Mockingbird          Harper Lee   \n",
      "210                      Laugh-Out-Loud Jokes for Kids         Rob Elliott   \n",
      "206                         Knock-Knock Jokes for Kids         Rob Elliott   \n",
      "111                                    First 100 Words        Roger Priddy   \n",
      "123                               Giraffes Can't Dance       Giles Andreae   \n",
      "54   Creative Haven Creative Cats Coloring Book (Ad...     Marjorie Sarnat   \n",
      "63                      Dear Zoo: A Lift-the-Flap Book        Rod Campbell   \n",
      "89   Dover Creative Haven Art Nouveau Animal Design...         Marty Noble   \n",
      "478                        The Very Hungry Caterpillar          Eric Carle   \n",
      "201  Killing Reagan: The Violent Assault That Chang...       Bill O'Reilly   \n",
      "28                        Baby Touch and Feel: Animals                  DK   \n",
      "224                                   Love You Forever       Robert Munsch   \n",
      "55   Creative Haven Owls Coloring Book (Adult Color...     Marjorie Sarnat   \n",
      "17      Adult Coloring Book: Stress Relieving Patterns  Blue Star Coloring   \n",
      "376  The Four Agreements: A Practical Guide to Pers...     Don Miguel Ruiz   \n",
      "16   Adult Coloring Book: Stress Relieving Animal D...  Blue Star Coloring   \n",
      "253              Old School (Diary of a Wimpy Kid #10)         Jeff Kinney   \n",
      "\n",
      "     user_rating  reviews  price  year        genre  \n",
      "507          4.8    26234      0  2015      Fiction  \n",
      "210          4.6     6990      4  2015  Non Fiction  \n",
      "206          4.5     3673      4  2015  Non Fiction  \n",
      "111          4.7    17323      4  2015  Non Fiction  \n",
      "123          4.8    14038      4  2015      Fiction  \n",
      "54           4.8     4022      4  2015  Non Fiction  \n",
      "63           4.8    10922      5  2015      Fiction  \n",
      "89           4.6     2134      5  2015  Non Fiction  \n",
      "478          4.9    19546      5  2015      Fiction  \n",
      "201          4.6     5235      5  2015  Non Fiction  \n",
      "28           4.6     5360      5  2015  Non Fiction  \n",
      "224          4.8    18613      5  2015      Fiction  \n",
      "55           4.8     3871      5  2015  Non Fiction  \n",
      "17           4.4     2951      6  2015  Non Fiction  \n",
      "376          4.7    23308      6  2015  Non Fiction  \n",
      "16           4.6     2925      6  2015  Non Fiction  \n",
      "253          4.8     6169      7  2015      Fiction  \n"
     ]
    }
   ],
   "source": [
    "filtered_books = task[(task['year'] == 2015) & (task['price'] < 8)]\n",
    "\n",
    "\n",
    "sorted_books = filtered_books.sort_values(by='price')\n",
    "print(sorted_books)"
   ]
  },
  {
   "cell_type": "code",
   "execution_count": 62,
   "metadata": {},
   "outputs": [
    {
     "name": "stdout",
     "output_type": "stream",
     "text": [
      "Остання відсортована книга -  Old School (Diary of a Wimpy Kid #10)\n"
     ]
    }
   ],
   "source": [
    "print('Остання відсортована книга -  Old School (Diary of a Wimpy Kid #10)')"
   ]
  },
  {
   "cell_type": "code",
   "execution_count": 63,
   "metadata": {},
   "outputs": [
    {
     "name": "stdout",
     "output_type": "stream",
     "text": [
      "             min_price  max_price\n",
      "genre                            \n",
      "Fiction              0         82\n",
      "Non Fiction          0        105\n"
     ]
    }
   ],
   "source": [
    "result = task.groupby('genre')['price'].agg(min_price='min', max_price='max')\n",
    "\n",
    "print(result)\n",
    "\n",
    "print('Максимальна ціна жанру fiction - 82')\n",
    "print('Мінімальна ціна жанру fiction - 0 ')\n",
    "print('Максимальна ціна жанру Non fiction - 105')\n",
    "print('Мінімальна ціна жанру Non fiction - 0')"
   ]
  },
  {
   "cell_type": "code",
   "execution_count": 88,
   "metadata": {},
   "outputs": [
    {
     "name": "stdout",
     "output_type": "stream",
     "text": [
      "                         author  book_count\n",
      "0              Abraham Verghese           2\n",
      "1                Adam Gasiewski           1\n",
      "2                 Adam Mansbach           1\n",
      "3                     Adir Levy           1\n",
      "4    Admiral William H. McRaven           1\n",
      "..                          ...         ...\n",
      "243             Walter Isaacson           3\n",
      "244               William Davis           2\n",
      "245            William P. Young           2\n",
      "246            Wizards RPG Team           3\n",
      "247                Zhi Gang Sha           2\n",
      "\n",
      "[248 rows x 2 columns]\n"
     ]
    }
   ],
   "source": [
    "result = task.groupby('author').agg(\n",
    "    book_count=('name', 'count'),\n",
    "    \n",
    ").reset_index()\n",
    "\n",
    "new_dato = pd.concat([result],ignore_index=True)\n",
    "\n",
    "print(new_dato)\n"
   ]
  },
  {
   "cell_type": "code",
   "execution_count": 74,
   "metadata": {},
   "outputs": [
    {
     "name": "stdout",
     "output_type": "stream",
     "text": [
      "248 3\n"
     ]
    }
   ],
   "source": [
    "row , col = new_dato.shape\n",
    "print(row,col)\n",
    "\n"
   ]
  },
  {
   "cell_type": "code",
   "execution_count": 75,
   "metadata": {},
   "outputs": [
    {
     "name": "stdout",
     "output_type": "stream",
     "text": [
      "Jeff Kinney\n"
     ]
    }
   ],
   "source": [
    "author_counts = task['author'].value_counts()\n",
    "\n",
    "\n",
    "most_prolific_author = author_counts.idxmax()\n",
    "\n",
    "print(most_prolific_author)\n"
   ]
  },
  {
   "cell_type": "code",
   "execution_count": 76,
   "metadata": {},
   "outputs": [
    {
     "name": "stdout",
     "output_type": "stream",
     "text": [
      "12\n"
     ]
    }
   ],
   "source": [
    "most_prolific_author = author_counts.idxmax()\n",
    "\n",
    "book_count = author_counts[most_prolific_author]\n",
    "\n",
    "print(book_count)"
   ]
  },
  {
   "cell_type": "code",
   "execution_count": 93,
   "metadata": {},
   "outputs": [
    {
     "name": "stdout",
     "output_type": "stream",
     "text": [
      "                            avg_rating\n",
      "author                                \n",
      "Abraham Verghese              4.600000\n",
      "Adam Gasiewski                4.400000\n",
      "Adam Mansbach                 4.800000\n",
      "Adir Levy                     4.800000\n",
      "Admiral William H. McRaven    4.700000\n",
      "...                                ...\n",
      "Walter Isaacson               4.566667\n",
      "William Davis                 4.400000\n",
      "William P. Young              4.600000\n",
      "Wizards RPG Team              4.800000\n",
      "Zhi Gang Sha                  4.600000\n",
      "\n",
      "[248 rows x 1 columns]\n"
     ]
    }
   ],
   "source": [
    "result = task.groupby('author')['user_rating'].agg(avg_rating='mean')\n",
    "\n",
    "print(result)"
   ]
  },
  {
   "cell_type": "code",
   "execution_count": 98,
   "metadata": {},
   "outputs": [
    {
     "name": "stdout",
     "output_type": "stream",
     "text": [
      "Donna Tartt 3.9\n"
     ]
    }
   ],
   "source": [
    "average_ratings = result.groupby('author')['avg_rating'].mean()\n",
    "\n",
    "\n",
    "min_avg_rating_author, min_avg_rating = average_ratings.idxmin(), average_ratings.min()\n",
    "\n",
    "print(min_avg_rating_author, min_avg_rating)\n"
   ]
  },
  {
   "cell_type": "code",
   "execution_count": 100,
   "metadata": {},
   "outputs": [
    {
     "data": {
      "text/html": [
       "<div>\n",
       "<style scoped>\n",
       "    .dataframe tbody tr th:only-of-type {\n",
       "        vertical-align: middle;\n",
       "    }\n",
       "\n",
       "    .dataframe tbody tr th {\n",
       "        vertical-align: top;\n",
       "    }\n",
       "\n",
       "    .dataframe thead th {\n",
       "        text-align: right;\n",
       "    }\n",
       "</style>\n",
       "<table border=\"1\" class=\"dataframe\">\n",
       "  <thead>\n",
       "    <tr style=\"text-align: right;\">\n",
       "      <th></th>\n",
       "      <th>author</th>\n",
       "      <th>book_count</th>\n",
       "      <th>avg_rating</th>\n",
       "    </tr>\n",
       "  </thead>\n",
       "  <tbody>\n",
       "    <tr>\n",
       "      <th>0</th>\n",
       "      <td>Abraham Verghese</td>\n",
       "      <td>2.0</td>\n",
       "      <td>NaN</td>\n",
       "    </tr>\n",
       "    <tr>\n",
       "      <th>1</th>\n",
       "      <td>Adam Gasiewski</td>\n",
       "      <td>1.0</td>\n",
       "      <td>NaN</td>\n",
       "    </tr>\n",
       "    <tr>\n",
       "      <th>2</th>\n",
       "      <td>Adam Mansbach</td>\n",
       "      <td>1.0</td>\n",
       "      <td>NaN</td>\n",
       "    </tr>\n",
       "    <tr>\n",
       "      <th>3</th>\n",
       "      <td>Adir Levy</td>\n",
       "      <td>1.0</td>\n",
       "      <td>NaN</td>\n",
       "    </tr>\n",
       "    <tr>\n",
       "      <th>4</th>\n",
       "      <td>Admiral William H. McRaven</td>\n",
       "      <td>1.0</td>\n",
       "      <td>NaN</td>\n",
       "    </tr>\n",
       "    <tr>\n",
       "      <th>...</th>\n",
       "      <td>...</td>\n",
       "      <td>...</td>\n",
       "      <td>...</td>\n",
       "    </tr>\n",
       "    <tr>\n",
       "      <th>Walter Isaacson</th>\n",
       "      <td>NaN</td>\n",
       "      <td>NaN</td>\n",
       "      <td>4.566667</td>\n",
       "    </tr>\n",
       "    <tr>\n",
       "      <th>William Davis</th>\n",
       "      <td>NaN</td>\n",
       "      <td>NaN</td>\n",
       "      <td>4.400000</td>\n",
       "    </tr>\n",
       "    <tr>\n",
       "      <th>William P. Young</th>\n",
       "      <td>NaN</td>\n",
       "      <td>NaN</td>\n",
       "      <td>4.600000</td>\n",
       "    </tr>\n",
       "    <tr>\n",
       "      <th>Wizards RPG Team</th>\n",
       "      <td>NaN</td>\n",
       "      <td>NaN</td>\n",
       "      <td>4.800000</td>\n",
       "    </tr>\n",
       "    <tr>\n",
       "      <th>Zhi Gang Sha</th>\n",
       "      <td>NaN</td>\n",
       "      <td>NaN</td>\n",
       "      <td>4.600000</td>\n",
       "    </tr>\n",
       "  </tbody>\n",
       "</table>\n",
       "<p>496 rows × 3 columns</p>\n",
       "</div>"
      ],
      "text/plain": [
       "                                      author  book_count  avg_rating\n",
       "0                           Abraham Verghese         2.0         NaN\n",
       "1                             Adam Gasiewski         1.0         NaN\n",
       "2                              Adam Mansbach         1.0         NaN\n",
       "3                                  Adir Levy         1.0         NaN\n",
       "4                 Admiral William H. McRaven         1.0         NaN\n",
       "...                                      ...         ...         ...\n",
       "Walter Isaacson                          NaN         NaN    4.566667\n",
       "William Davis                            NaN         NaN    4.400000\n",
       "William P. Young                         NaN         NaN    4.600000\n",
       "Wizards RPG Team                         NaN         NaN    4.800000\n",
       "Zhi Gang Sha                             NaN         NaN    4.600000\n",
       "\n",
       "[496 rows x 3 columns]"
      ]
     },
     "execution_count": 100,
     "metadata": {},
     "output_type": "execute_result"
    }
   ],
   "source": [
    "final = pd.concat([new_dato , result], axis=1)\n",
    "\n",
    "final"
   ]
  },
  {
   "cell_type": "code",
   "execution_count": 105,
   "metadata": {},
   "outputs": [
    {
     "name": "stdout",
     "output_type": "stream",
     "text": [
      "                                           author  book_count  avg_rating\n",
      "1                                  Adam Gasiewski         1.0         NaN\n",
      "2                                   Adam Mansbach         1.0         NaN\n",
      "3                                       Adir Levy         1.0         NaN\n",
      "4                      Admiral William H. McRaven         1.0         NaN\n",
      "5                     Adult Coloring Book Designs         1.0         NaN\n",
      "...                                           ...         ...         ...\n",
      "Patrick Thorpe                                NaN         NaN         4.9\n",
      "Pete Souza                                    NaN         NaN         4.9\n",
      "Rush Limbaugh                                 NaN         NaN         4.9\n",
      "Sarah Young                                   NaN         NaN         4.9\n",
      "Sherri Duskey Rinker                          NaN         NaN         4.9\n",
      "\n",
      "[496 rows x 3 columns]\n"
     ]
    }
   ],
   "source": [
    "sorted_final = final.sort_values(by=['book_count', 'avg_rating'], ascending=[True, True])\n",
    "\n",
    "print(sorted_final)"
   ]
  },
  {
   "cell_type": "code",
   "execution_count": null,
   "metadata": {},
   "outputs": [],
   "source": [
    "print('Перший автор у списку - Adam Gasiewski')"
   ]
  },
  {
   "cell_type": "code",
   "execution_count": 9,
   "metadata": {},
   "outputs": [
    {
     "data": {
      "image/png": "[encoded data removed]",
      "text/plain": [
       "<Figure size 1000x600 with 1 Axes>"
      ]
     },
     "metadata": {},
     "output_type": "display_data"
    },
    {
     "data": {
      "image/png": "[encoded data removed]",
      "text/plain": [
       "<Figure size 1000x600 with 1 Axes>"
      ]
     },
     "metadata": {},
     "output_type": "display_data"
    },
    {
     "data": {
      "image/png": "[encoded data removed]",
      "text/plain": [
       "<Figure size 1000x600 with 1 Axes>"
      ]
     },
     "metadata": {},
     "output_type": "display_data"
    }
   ],
   "source": [
    "import seaborn as sns\n",
    "import matplotlib.pyplot as plt\n",
    "\n",
    "plt.figure(figsize=(10, 6))\n",
    "sns.histplot(data=task, x='Price', bins=20, kde=True)\n",
    "plt.xlabel('Ціна')\n",
    "plt.ylabel('Частота')\n",
    "plt.title('Розподіл цін на книги')\n",
    "plt.show()\n",
    "\n",
    "plt.figure(figsize=(10, 6))\n",
    "sns.barplot(data=task, x='Genre', y='Reviews')\n",
    "plt.xlabel('Жанр')\n",
    "plt.ylabel('Кількість відгуків')\n",
    "plt.title('Кількість відгуків за жанром книги')\n",
    "plt.xticks(rotation=45)\n",
    "plt.show()\n",
    "\n",
    "\n",
    "plt.figure(figsize=(10, 6))\n",
    "sns.lineplot(data=task, x='Year', y='Price')\n",
    "plt.xlabel('Рік')\n",
    "plt.ylabel('Ціна')\n",
    "plt.title('Тренд цін на книги за роками')\n",
    "plt.show()"
   ]
  }
 ],
 "metadata": {
  "kernelspec": {
   "display_name": "Python 3",
   "language": "python",
   "name": "python3"
  },
  "language_info": {
   "codemirror_mode": {
    "name": "ipython",
    "version": 3
   },
   "file_extension": ".py",
   "mimetype": "text/x-python",
   "name": "python",
   "nbconvert_exporter": "python",
   "pygments_lexer": "ipython3",
   "version": "3.11.5"
  },
  "orig_nbformat": 4
 },
 "nbformat": 4,
 "nbformat_minor": 2
}
